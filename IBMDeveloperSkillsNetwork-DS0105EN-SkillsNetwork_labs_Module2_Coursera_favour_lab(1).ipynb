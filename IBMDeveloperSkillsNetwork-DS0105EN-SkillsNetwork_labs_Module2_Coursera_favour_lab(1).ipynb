{
  "metadata": {
    "kernelspec": {
      "name": "python",
      "display_name": "Pyolite",
      "language": "python"
    },
    "language_info": {
      "codemirror_mode": {
        "name": "python",
        "version": 3
      },
      "file_extension": ".py",
      "mimetype": "text/x-python",
      "name": "python",
      "nbconvert_exporter": "python",
      "pygments_lexer": "ipython3",
      "version": "3.8"
    }
  },
  "nbformat_minor": 4,
  "nbformat": 4,
  "cells": [
    {
      "cell_type": "markdown",
      "source": "<center>\n    <img src=\"https://cf-courses-data.s3.us.cloud-object-storage.appdomain.cloud/IBMDeveloperSkillsNetwork-DS0105EN-SkillsNetwork/labs/Module2/images/SN_web_lightmode.png\" width=\"300\" alt=\"cognitiveclass.ai logo\">\n</center>\n",
      "metadata": {}
    },
    {
      "cell_type": "markdown",
      "source": "#### Add your code below following the instructions given in the course\n",
      "metadata": {}
    },
    {
      "cell_type": "markdown",
      "source": "<H1>My Jupyter Notebook on IBM Watson Studio </H1>",
      "metadata": {}
    },
    {
      "cell_type": "markdown",
      "source": "<B> FAVOUR IBUDE </B>\n<BR>\n Data Scientist",
      "metadata": {}
    },
    {
      "cell_type": "markdown",
      "source": "<I>I am interested in data science because you can gain insight from complex data using statistical inference and machine learning   </I>\n<br>\n<I>I am also interested in data science because it allows you to think critically    </I>",
      "metadata": {}
    },
    {
      "cell_type": "markdown",
      "source": "<h3> The code below is using python programming language to define a function that can accept any argument to perform an addition and returns that value </h3>",
      "metadata": {}
    },
    {
      "cell_type": "code",
      "source": "def addition_of_numbers(a,b):\n    return a+b\nprint(addition_of_numbers(5,5))",
      "metadata": {
        "trusted": true
      },
      "execution_count": 13,
      "outputs": [
        {
          "name": "stdout",
          "text": "10\n",
          "output_type": "stream"
        }
      ]
    },
    {
      "cell_type": "markdown",
      "source": "<p>Tools for data science are:</p>\n<ul>\n    <li>RStudio</li>\n    <li>Jupyter Notebook</li>\n     <li>IBM SPSS</li>\n</ul>\n\n<br>\n\n<p>Types of machine learling:</p>\n<ol>\n    <li>Supervised</li>\n    <li>Unsupervised</li>\n     <li>ReinforcementS</li>\n</ol>\n\n<br>\n<hr>This is an horizonal rule</hr>\n",
      "metadata": {}
    },
    {
      "cell_type": "code",
      "source": "",
      "metadata": {},
      "execution_count": null,
      "outputs": []
    }
  ]
}