{
  "metadata": {
    "language_info": {
      "codemirror_mode": {
        "name": "python",
        "version": 3
      },
      "file_extension": ".py",
      "mimetype": "text/x-python",
      "name": "python",
      "nbconvert_exporter": "python",
      "pygments_lexer": "ipython3",
      "version": "3.8"
    },
    "kernelspec": {
      "name": "python",
      "display_name": "Pyolite",
      "language": "python"
    }
  },
  "nbformat_minor": 4,
  "nbformat": 4,
  "cells": [
    {
      "cell_type": "markdown",
      "source": "<h2> Data Science Tools and Ecosystem </h2>",
      "metadata": {}
    },
    {
      "cell_type": "markdown",
      "source": "<H2> In this notebook, Data Science Tools and Ecosystem are summarized </H2>",
      "metadata": {}
    },
    {
      "cell_type": "markdown",
      "source": "<p>Some of the popular languages that Data Scientists use are</p>\n<ol>\n    <li>Python</li>\n    <li>R</li>\n     <li>SQL</li>\n</ol>\n",
      "metadata": {}
    },
    {
      "cell_type": "markdown",
      "source": "\n<p>Some of the commonly used libraries used by Data Scientists include:</p>\n<ol>\n    <li>Pandas</li>\n    <li>NumPy</li>\n     <li>Matplotlib</li>\n</ol>\n",
      "metadata": {}
    },
    {
      "cell_type": "markdown",
      "source": "<table>\n    <tr>\n        <td>SPSS</td>\n        <td>RStudio IDE</td>\n        <td>Github</td>\n    </tr>\n       \n</table>",
      "metadata": {}
    },
    {
      "cell_type": "markdown",
      "source": "<p>Below are a few examples of evaluating arithmetic expressions in Python </p>\n<ul>\n    <li> Addition </li>\n    <li> Subtraction </li>\n    <li> Division </li>\n</ul>",
      "metadata": {}
    },
    {
      "cell_type": "code",
      "source": "## This a simple arithmetic expression to mutiply then add integers\n#### Multiplication\n2*2\n\n#### Addition\n2+2",
      "metadata": {
        "trusted": true
      },
      "execution_count": 5,
      "outputs": [
        {
          "execution_count": 5,
          "output_type": "execute_result",
          "data": {
            "text/plain": "4"
          },
          "metadata": {}
        }
      ]
    },
    {
      "cell_type": "code",
      "source": "30 / 60",
      "metadata": {
        "trusted": true
      },
      "execution_count": 4,
      "outputs": [
        {
          "execution_count": 4,
          "output_type": "execute_result",
          "data": {
            "text/plain": "0.5"
          },
          "metadata": {}
        }
      ]
    },
    {
      "cell_type": "markdown",
      "source": "<p>List of Objectives</p>\n<ol>\n    <li>Data science language</li>\n    <li>Data science tools</li>\n     <li>Data science liabaries</li>\n</ol>\n",
      "metadata": {}
    },
    {
      "cell_type": "markdown",
      "source": "<p> The Author’s name </p>\n<ul>\n    <li>FAVOUR IBUDE</li>\n   \n\n</ul>",
      "metadata": {}
    },
    {
      "cell_type": "code",
      "source": "",
      "metadata": {},
      "execution_count": null,
      "outputs": []
    }
  ]
}